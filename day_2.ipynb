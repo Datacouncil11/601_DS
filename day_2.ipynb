{
 "cells": [
  {
   "cell_type": "code",
   "execution_count": 1,
   "id": "90a30676",
   "metadata": {},
   "outputs": [],
   "source": [
    "# Comparition Operators"
   ]
  },
  {
   "cell_type": "code",
   "execution_count": 2,
   "id": "cbfd131e",
   "metadata": {},
   "outputs": [],
   "source": [
    "a = 5"
   ]
  },
  {
   "cell_type": "code",
   "execution_count": 3,
   "id": "84caa2c8",
   "metadata": {},
   "outputs": [
    {
     "data": {
      "text/plain": [
       "True"
      ]
     },
     "execution_count": 3,
     "metadata": {},
     "output_type": "execute_result"
    }
   ],
   "source": [
    "a == 5"
   ]
  },
  {
   "cell_type": "code",
   "execution_count": 4,
   "id": "a964e89b",
   "metadata": {},
   "outputs": [
    {
     "data": {
      "text/plain": [
       "False"
      ]
     },
     "execution_count": 4,
     "metadata": {},
     "output_type": "execute_result"
    }
   ],
   "source": [
    "a == 8"
   ]
  },
  {
   "cell_type": "code",
   "execution_count": 5,
   "id": "5198e68e",
   "metadata": {},
   "outputs": [],
   "source": [
    "b = 'Data'"
   ]
  },
  {
   "cell_type": "code",
   "execution_count": 6,
   "id": "99cfd50a",
   "metadata": {},
   "outputs": [
    {
     "data": {
      "text/plain": [
       "True"
      ]
     },
     "execution_count": 6,
     "metadata": {},
     "output_type": "execute_result"
    }
   ],
   "source": [
    "b == 'Data'"
   ]
  },
  {
   "cell_type": "code",
   "execution_count": 7,
   "id": "63dc1259",
   "metadata": {},
   "outputs": [
    {
     "data": {
      "text/plain": [
       "False"
      ]
     },
     "execution_count": 7,
     "metadata": {},
     "output_type": "execute_result"
    }
   ],
   "source": [
    "b != 'Data'"
   ]
  },
  {
   "cell_type": "code",
   "execution_count": 8,
   "id": "ba810a56",
   "metadata": {},
   "outputs": [
    {
     "data": {
      "text/plain": [
       "True"
      ]
     },
     "execution_count": 8,
     "metadata": {},
     "output_type": "execute_result"
    }
   ],
   "source": [
    "b != 'council'"
   ]
  },
  {
   "cell_type": "code",
   "execution_count": 9,
   "id": "a9ce48e4",
   "metadata": {},
   "outputs": [],
   "source": [
    "f = 10"
   ]
  },
  {
   "cell_type": "code",
   "execution_count": 10,
   "id": "67b41bf6",
   "metadata": {},
   "outputs": [
    {
     "data": {
      "text/plain": [
       "True"
      ]
     },
     "execution_count": 10,
     "metadata": {},
     "output_type": "execute_result"
    }
   ],
   "source": [
    "f < 20"
   ]
  },
  {
   "cell_type": "code",
   "execution_count": 11,
   "id": "8bdaec53",
   "metadata": {},
   "outputs": [
    {
     "data": {
      "text/plain": [
       "False"
      ]
     },
     "execution_count": 11,
     "metadata": {},
     "output_type": "execute_result"
    }
   ],
   "source": [
    "f > 20"
   ]
  },
  {
   "cell_type": "code",
   "execution_count": 12,
   "id": "a3f28d8c",
   "metadata": {},
   "outputs": [
    {
     "data": {
      "text/plain": [
       "False"
      ]
     },
     "execution_count": 12,
     "metadata": {},
     "output_type": "execute_result"
    }
   ],
   "source": [
    "f < 10"
   ]
  },
  {
   "cell_type": "code",
   "execution_count": 13,
   "id": "3ebf313f",
   "metadata": {},
   "outputs": [
    {
     "data": {
      "text/plain": [
       "True"
      ]
     },
     "execution_count": 13,
     "metadata": {},
     "output_type": "execute_result"
    }
   ],
   "source": [
    "f < 11"
   ]
  },
  {
   "cell_type": "code",
   "execution_count": 14,
   "id": "4a82f8d6",
   "metadata": {},
   "outputs": [
    {
     "data": {
      "text/plain": [
       "True"
      ]
     },
     "execution_count": 14,
     "metadata": {},
     "output_type": "execute_result"
    }
   ],
   "source": [
    "f <= 10"
   ]
  },
  {
   "cell_type": "code",
   "execution_count": 15,
   "id": "7a421301",
   "metadata": {},
   "outputs": [
    {
     "data": {
      "text/plain": [
       "True"
      ]
     },
     "execution_count": 15,
     "metadata": {},
     "output_type": "execute_result"
    }
   ],
   "source": [
    "f >= 10"
   ]
  },
  {
   "cell_type": "code",
   "execution_count": 16,
   "id": "721e2273",
   "metadata": {},
   "outputs": [
    {
     "data": {
      "text/plain": [
       "False"
      ]
     },
     "execution_count": 16,
     "metadata": {},
     "output_type": "execute_result"
    }
   ],
   "source": [
    "f >= 11"
   ]
  },
  {
   "cell_type": "code",
   "execution_count": 17,
   "id": "a5b7e320",
   "metadata": {},
   "outputs": [
    {
     "data": {
      "text/plain": [
       "True"
      ]
     },
     "execution_count": 17,
     "metadata": {},
     "output_type": "execute_result"
    }
   ],
   "source": [
    "f <= 11"
   ]
  },
  {
   "cell_type": "code",
   "execution_count": 18,
   "id": "00054577",
   "metadata": {},
   "outputs": [
    {
     "data": {
      "text/plain": [
       "True"
      ]
     },
     "execution_count": 18,
     "metadata": {},
     "output_type": "execute_result"
    }
   ],
   "source": [
    "10 <= 11"
   ]
  },
  {
   "cell_type": "code",
   "execution_count": 19,
   "id": "96a07ac1",
   "metadata": {},
   "outputs": [
    {
     "data": {
      "text/plain": [
       "False"
      ]
     },
     "execution_count": 19,
     "metadata": {},
     "output_type": "execute_result"
    }
   ],
   "source": [
    "50 >= 100"
   ]
  },
  {
   "cell_type": "code",
   "execution_count": 20,
   "id": "3cfa7bd0",
   "metadata": {},
   "outputs": [
    {
     "data": {
      "text/plain": [
       "True"
      ]
     },
     "execution_count": 20,
     "metadata": {},
     "output_type": "execute_result"
    }
   ],
   "source": [
    "50 >= 30"
   ]
  },
  {
   "cell_type": "code",
   "execution_count": 21,
   "id": "59994d60",
   "metadata": {},
   "outputs": [
    {
     "data": {
      "text/plain": [
       "True"
      ]
     },
     "execution_count": 21,
     "metadata": {},
     "output_type": "execute_result"
    }
   ],
   "source": [
    "50 >= 50"
   ]
  },
  {
   "cell_type": "code",
   "execution_count": 22,
   "id": "5c882b78",
   "metadata": {},
   "outputs": [],
   "source": [
    "df = 'Data'\n",
    "df1 = 'Council'"
   ]
  },
  {
   "cell_type": "code",
   "execution_count": 23,
   "id": "f232fd26",
   "metadata": {},
   "outputs": [
    {
     "data": {
      "text/plain": [
       "'DataCouncil'"
      ]
     },
     "execution_count": 23,
     "metadata": {},
     "output_type": "execute_result"
    }
   ],
   "source": [
    "df + df1"
   ]
  },
  {
   "cell_type": "code",
   "execution_count": 24,
   "id": "10366e52",
   "metadata": {},
   "outputs": [
    {
     "data": {
      "text/plain": [
       "'Data Council'"
      ]
     },
     "execution_count": 24,
     "metadata": {},
     "output_type": "execute_result"
    }
   ],
   "source": [
    "df + ' ' + df1"
   ]
  },
  {
   "cell_type": "code",
   "execution_count": 25,
   "id": "567f881a",
   "metadata": {},
   "outputs": [
    {
     "data": {
      "text/plain": [
       "65"
      ]
     },
     "execution_count": 25,
     "metadata": {},
     "output_type": "execute_result"
    }
   ],
   "source": [
    "10 + 15 + 40"
   ]
  },
  {
   "cell_type": "code",
   "execution_count": 26,
   "id": "a8e4389f",
   "metadata": {},
   "outputs": [],
   "source": [
    "d = 'New'"
   ]
  },
  {
   "cell_type": "code",
   "execution_count": 27,
   "id": "00788e1d",
   "metadata": {},
   "outputs": [
    {
     "data": {
      "text/plain": [
       "'New'"
      ]
     },
     "execution_count": 27,
     "metadata": {},
     "output_type": "execute_result"
    }
   ],
   "source": [
    "d"
   ]
  },
  {
   "cell_type": "code",
   "execution_count": 28,
   "id": "76378791",
   "metadata": {},
   "outputs": [
    {
     "name": "stdout",
     "output_type": "stream",
     "text": [
      "New\n"
     ]
    }
   ],
   "source": [
    "print(d)"
   ]
  },
  {
   "cell_type": "code",
   "execution_count": 29,
   "id": "f5dfbfe6",
   "metadata": {},
   "outputs": [
    {
     "name": "stdout",
     "output_type": "stream",
     "text": [
      "25\n"
     ]
    }
   ],
   "source": [
    "print(10 + 15)"
   ]
  },
  {
   "cell_type": "code",
   "execution_count": 30,
   "id": "3b337e82",
   "metadata": {},
   "outputs": [
    {
     "name": "stdout",
     "output_type": "stream",
     "text": [
      "Data\n"
     ]
    }
   ],
   "source": [
    "print('Data')"
   ]
  },
  {
   "cell_type": "code",
   "execution_count": 32,
   "id": "5393a084",
   "metadata": {},
   "outputs": [
    {
     "name": "stdout",
     "output_type": "stream",
     "text": [
      "New\n"
     ]
    }
   ],
   "source": [
    "print(d)"
   ]
  },
  {
   "cell_type": "code",
   "execution_count": 33,
   "id": "74d99a4b",
   "metadata": {},
   "outputs": [],
   "source": [
    "y = 'Year'"
   ]
  },
  {
   "cell_type": "code",
   "execution_count": 34,
   "id": "40423700",
   "metadata": {},
   "outputs": [
    {
     "name": "stdout",
     "output_type": "stream",
     "text": [
      "NewYear\n"
     ]
    }
   ],
   "source": [
    "print(d + y)"
   ]
  },
  {
   "cell_type": "code",
   "execution_count": 35,
   "id": "afefc759",
   "metadata": {},
   "outputs": [
    {
     "name": "stdout",
     "output_type": "stream",
     "text": [
      "New Year\n"
     ]
    }
   ],
   "source": [
    "print(d + ' ' + y)"
   ]
  },
  {
   "cell_type": "code",
   "execution_count": 38,
   "id": "8109b14c",
   "metadata": {},
   "outputs": [
    {
     "name": "stdout",
     "output_type": "stream",
     "text": [
      "Enter your age22\n",
      "What is your salary50000\n",
      "Your age is  22 Your salary is  50000.0\n"
     ]
    }
   ],
   "source": [
    "a = int(input(\"Enter your age\"))\n",
    "b = float(input('What is your salary'))\n",
    "\n",
    "print('Your age is ', a , 'Your salary is ' , b )"
   ]
  },
  {
   "cell_type": "code",
   "execution_count": 39,
   "id": "afc98516",
   "metadata": {},
   "outputs": [
    {
     "name": "stdout",
     "output_type": "stream",
     "text": [
      "Enter your Birh MonthDec\n",
      "Enter your birth Date15\n",
      "Enter your birth Year1998\n",
      "Your Birh date is  15 Dec 1998\n"
     ]
    }
   ],
   "source": [
    "x = input('Enter your Birh Month')\n",
    "y = int(input('Enter your birth Date'))\n",
    "z = int(input('Enter your birth Year'))\n",
    "\n",
    "print('Your Birh date is ',y,x,z)"
   ]
  },
  {
   "cell_type": "code",
   "execution_count": null,
   "id": "b6808561",
   "metadata": {},
   "outputs": [],
   "source": []
  }
 ],
 "metadata": {
  "kernelspec": {
   "display_name": "Python 3 (ipykernel)",
   "language": "python",
   "name": "python3"
  },
  "language_info": {
   "codemirror_mode": {
    "name": "ipython",
    "version": 3
   },
   "file_extension": ".py",
   "mimetype": "text/x-python",
   "name": "python",
   "nbconvert_exporter": "python",
   "pygments_lexer": "ipython3",
   "version": "3.11.5"
  }
 },
 "nbformat": 4,
 "nbformat_minor": 5
}
